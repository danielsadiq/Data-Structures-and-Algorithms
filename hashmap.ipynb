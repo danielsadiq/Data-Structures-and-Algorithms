{
 "cells": [
  {
   "cell_type": "code",
   "execution_count": 11,
   "id": "abb948d6",
   "metadata": {},
   "outputs": [
    {
     "name": "stdout",
     "output_type": "stream",
     "text": [
      "[['6-Mar', 310.0], ['7-Mar', 340.0], ['8-Mar', 380.0], ['9-Mar', 302.0], ['10-Mar', 297.0], ['11-Mar', 323.0]]\n"
     ]
    }
   ],
   "source": [
    "stock_prices = []\n",
    "with open(\"stock_prices.csv\", \"r\") as f:\n",
    "  for line in f:\n",
    "    tokes = line.split(\",\")\n",
    "    day = tokes[0]\n",
    "    price = float(tokes[1])\n",
    "    stock_prices.append([day,price])\n",
    "    \n",
    "\n",
    "stock_prices[0][0] = \"6-Mar\"\n",
    "print(stock_prices)"
   ]
  },
  {
   "cell_type": "code",
   "execution_count": 14,
   "id": "0c1abd69",
   "metadata": {},
   "outputs": [
    {
     "name": "stdout",
     "output_type": "stream",
     "text": [
      "{'6-Mar': 310.0, '7-Mar': 340.0, '8-Mar': 380.0, '9-Mar': 302.0, '10-Mar': 297.0, '11-Mar': 323.0}\n"
     ]
    }
   ],
   "source": [
    "stock_prices = {}\n",
    "with open(\"stock_prices.csv\", \"r\") as f:\n",
    "  for line in f:\n",
    "    tokes = line.split(\",\")\n",
    "    day = tokes[0]\n",
    "    price = float(tokes[1])\n",
    "    stock_prices[day] = price\n",
    "\n",
    "# stock_prices[0][0] = \"6-Mar\"\n",
    "print(stock_prices)"
   ]
  },
  {
   "cell_type": "code",
   "execution_count": 12,
   "id": "65e1289e",
   "metadata": {},
   "outputs": [
    {
     "name": "stdout",
     "output_type": "stream",
     "text": [
      "302.0\n"
     ]
    }
   ],
   "source": [
    "for el in stock_prices:\n",
    "  if el[0] == '9-Mar':\n",
    "    print(el[1])"
   ]
  },
  {
   "cell_type": "markdown",
   "id": "abf13059",
   "metadata": {},
   "source": [
    "### Implementing Hash Table"
   ]
  },
  {
   "cell_type": "code",
   "execution_count": 20,
   "id": "0ec27602",
   "metadata": {},
   "outputs": [
    {
     "data": {
      "text/plain": [
       "6"
      ]
     },
     "execution_count": 20,
     "metadata": {},
     "output_type": "execute_result"
    }
   ],
   "source": [
    "def get_hash(key):\n",
    "  h = 0\n",
    "  for char in key:\n",
    "    h += ord(char)\n",
    "  return h % 100\n",
    "\n",
    "get_hash(\"Matt\")"
   ]
  },
  {
   "cell_type": "code",
   "execution_count": null,
   "id": "6c8378f4",
   "metadata": {},
   "outputs": [],
   "source": [
    "class HashTable:\n",
    "  def __init__(self):\n",
    "    self.MAX = 100\n",
    "    self.arr = [[] for i in range(self.MAX)]\n",
    "    \n",
    "  def get_hash(self, key):\n",
    "    h = 0\n",
    "    for char in key:\n",
    "      h += ord(char)\n",
    "    return h % self.MAX\n",
    "  \n",
    "  def __setitem__(self, key, value):\n",
    "    h = self.get_hash(key)\n",
    "    self.arr[h] = value\n",
    "    \n",
    "  def __getitem__(self, key):\n",
    "    h = self.get_hash(key)\n",
    "    return self.arr[h]\n",
    "  \n",
    "  def __delitem__(self, key):\n",
    "    h = self.get_hash(key)\n",
    "    self.arr[h] = None\n",
    "  "
   ]
  },
  {
   "cell_type": "code",
   "execution_count": 42,
   "id": "c1dff906",
   "metadata": {},
   "outputs": [],
   "source": [
    "t = HashTable()\n",
    "\n",
    "# T.add(\"6-Mar\", 40)\n",
    "# T.get(\"6-Mar\")\n",
    "\n",
    "t['6-Mar'] = 310\n",
    "t['7-Mar'] = 340\n",
    "t['8-Mar'] = 380\n",
    "t['9-Mar'] = 297\n",
    "t['12-Aug'] = 315\n",
    "t['22-Apr'] = 315\n",
    "\n",
    "del t['9-Mar']"
   ]
  },
  {
   "cell_type": "code",
   "execution_count": 46,
   "id": "71eefe97",
   "metadata": {},
   "outputs": [
    {
     "data": {
      "text/plain": [
       "87"
      ]
     },
     "execution_count": 46,
     "metadata": {},
     "output_type": "execute_result"
    }
   ],
   "source": [
    "t.get_hash('Mar-6')\n",
    "t.get_hash('6-Mar')"
   ]
  }
 ],
 "metadata": {
  "kernelspec": {
   "display_name": "base",
   "language": "python",
   "name": "python3"
  },
  "language_info": {
   "codemirror_mode": {
    "name": "ipython",
    "version": 3
   },
   "file_extension": ".py",
   "mimetype": "text/x-python",
   "name": "python",
   "nbconvert_exporter": "python",
   "pygments_lexer": "ipython3",
   "version": "3.10.9"
  }
 },
 "nbformat": 4,
 "nbformat_minor": 5
}
