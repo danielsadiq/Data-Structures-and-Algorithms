{
 "cells": [
  {
   "cell_type": "code",
   "execution_count": 11,
   "id": "abb948d6",
   "metadata": {},
   "outputs": [
    {
     "name": "stdout",
     "output_type": "stream",
     "text": [
      "[['6-Mar', 310.0], ['7-Mar', 340.0], ['8-Mar', 380.0], ['9-Mar', 302.0], ['10-Mar', 297.0], ['11-Mar', 323.0]]\n"
     ]
    }
   ],
   "source": [
    "stock_prices = []\n",
    "with open(\"stock_price.csv\", \"r\") as f:\n",
    "  for line in f:\n",
    "    tokes = line.split(\",\")\n",
    "    day = tokes[0]\n",
    "    price = float(tokes[1])\n",
    "    stock_prices.append([day,price])\n",
    "    \n",
    "\n",
    "stock_prices[0][0] = \"6-Mar\"\n",
    "print(stock_prices)"
   ]
  },
  {
   "cell_type": "code",
   "execution_count": 12,
   "id": "65e1289e",
   "metadata": {},
   "outputs": [
    {
     "name": "stdout",
     "output_type": "stream",
     "text": [
      "302.0\n"
     ]
    }
   ],
   "source": [
    "for el in stock_prices:\n",
    "  if el[0] == '9-Mar':\n",
    "    print(el[1])"
   ]
  }
 ],
 "metadata": {
  "kernelspec": {
   "display_name": "base",
   "language": "python",
   "name": "python3"
  },
  "language_info": {
   "codemirror_mode": {
    "name": "ipython",
    "version": 3
   },
   "file_extension": ".py",
   "mimetype": "text/x-python",
   "name": "python",
   "nbconvert_exporter": "python",
   "pygments_lexer": "ipython3",
   "version": "3.10.9"
  }
 },
 "nbformat": 4,
 "nbformat_minor": 5
}
