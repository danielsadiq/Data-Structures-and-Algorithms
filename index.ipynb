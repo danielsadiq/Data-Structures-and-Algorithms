{
 "cells": [
  {
   "cell_type": "code",
   "execution_count": 1,
   "id": "72c0c072",
   "metadata": {},
   "outputs": [
    {
     "data": {
      "text/plain": [
       "150"
      ]
     },
     "execution_count": 1,
     "metadata": {},
     "output_type": "execute_result"
    }
   ],
   "source": [
    "expenses = [2200,2350,2600,2130,2190]\n",
    "expenses[1]- expenses[0]"
   ]
  },
  {
   "cell_type": "code",
   "execution_count": null,
   "id": "38f62074",
   "metadata": {},
   "outputs": [
    {
     "data": {
      "text/plain": [
       "7150"
      ]
     },
     "execution_count": 2,
     "metadata": {},
     "output_type": "execute_result"
    }
   ],
   "source": [
    "sum = 0\n",
    "for i in range(3):\n",
    "  sum+= expenses[i]\n",
    "sum"
   ]
  },
  {
   "cell_type": "code",
   "execution_count": 9,
   "id": "4f34bcf3",
   "metadata": {},
   "outputs": [
    {
     "name": "stdout",
     "output_type": "stream",
     "text": [
      "False\n"
     ]
    }
   ],
   "source": [
    "val = False\n",
    "for i in range(len(expenses)):\n",
    "  if expenses[i] == 2000:\n",
    "    val = True\n",
    "# print(val)\n",
    "# or\n",
    "print(2000 in expenses)"
   ]
  },
  {
   "cell_type": "markdown",
   "id": "543992ca",
   "metadata": {},
   "source": [
    "1. In Feb, how many dollars you spent extra compare to January?\n",
    "2. Find out your total expense in first quarter (first three months) of the year.\n",
    "3. Find out if you spent exactly 2000 dollars in any month\n",
    "4. June month just finished and your expense is 1980 dollar. Add this item to our monthly expense list\n",
    "5. You returned an item that you bought in a month of April and\n",
    "got a refund of 200$. Make a correction to your monthly expense list\n",
    "based on this"
   ]
  },
  {
   "cell_type": "code",
   "execution_count": 7,
   "id": "e07e0199",
   "metadata": {},
   "outputs": [],
   "source": [
    "expenses.append(1980)"
   ]
  },
  {
   "cell_type": "code",
   "execution_count": 8,
   "id": "16da70df",
   "metadata": {},
   "outputs": [],
   "source": [
    "expenses[3] -= 200"
   ]
  },
  {
   "cell_type": "code",
   "execution_count": 28,
   "id": "fb920748",
   "metadata": {},
   "outputs": [],
   "source": [
    "heros=['spider man','thor','hulk','iron man','captain america']"
   ]
  },
  {
   "cell_type": "markdown",
   "id": "f24f8d85",
   "metadata": {},
   "source": [
    "1. Length of the list\n",
    "2. Add 'black panther' at the end of this list\n",
    "3. You realize that you need to add 'black panther' after 'hulk',\n",
    "   so remove it from the list first and then add it after 'hulk'\n",
    "4. Now you don't like thor and hulk because they get angry easily :)\n",
    "   So you want to remove thor and hulk from list and replace them with doctor strange (because he is cool).\n",
    "   Do that with one line of code.\n",
    "5. Sort the heros list in alphabetical order (Hint. Use dir() functions to list down all functions available in list)"
   ]
  },
  {
   "cell_type": "code",
   "execution_count": 34,
   "id": "a066a826",
   "metadata": {},
   "outputs": [
    {
     "name": "stdout",
     "output_type": "stream",
     "text": [
      "['spider man', 'thor', 'hulk', 'black panther', 'iron man', 'captain america']\n"
     ]
    },
    {
     "data": {
      "text/plain": [
       "['black panther', 'captain america', 'doc', 'doc', 'iron man', 'spider man']"
      ]
     },
     "execution_count": 34,
     "metadata": {},
     "output_type": "execute_result"
    }
   ],
   "source": [
    "heros=['spider man','thor','hulk','iron man','captain america']\n",
    "len(heros)\n",
    "heros.append(\"black panther\")\n",
    "heros.pop()\n",
    "heros.insert(3, \"black panther\")\n",
    "print(heros)\n",
    "heros = list(map(lambda x: \"doc\" if x==\"hulk\" or x==\"thor\" else x, heros))\n",
    "heros.sort()\n",
    "heros"
   ]
  }
 ],
 "metadata": {
  "kernelspec": {
   "display_name": "base",
   "language": "python",
   "name": "python3"
  },
  "language_info": {
   "codemirror_mode": {
    "name": "ipython",
    "version": 3
   },
   "file_extension": ".py",
   "mimetype": "text/x-python",
   "name": "python",
   "nbconvert_exporter": "python",
   "pygments_lexer": "ipython3",
   "version": "3.10.9"
  }
 },
 "nbformat": 4,
 "nbformat_minor": 5
}
